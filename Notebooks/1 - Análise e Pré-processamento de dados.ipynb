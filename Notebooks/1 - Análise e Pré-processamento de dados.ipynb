{
 "cells": [
  {
   "cell_type": "markdown",
   "metadata": {},
   "source": [
    "# Análise e Pré-processamento de dados"
   ]
  },
  {
   "cell_type": "markdown",
   "metadata": {},
   "source": [
    "Lendo o dataset com nomes de colunas pré-definidos (não presentes no arquivo)"
   ]
  },
  {
   "cell_type": "code",
   "execution_count": 1,
   "metadata": {},
   "outputs": [],
   "source": [
    "import pandas as pd\n",
    "import numpy as np\n",
    "\n",
    "columns = ['srcip',\n",
    "'srcport',\n",
    "'dstip',\n",
    "'dstport',\n",
    "'proto',\n",
    "'total_fpackets',\n",
    "'total_fvolume',\n",
    "'total_bpackets',\n",
    "'total_bvolume',\n",
    "'min_fpktl',\n",
    "'mean_fpktl',\n",
    "'max_fpktl',\n",
    "'std_fpktl',\n",
    "'min_bpktl',\n",
    "'mean_bpktl',\n",
    "'max_bpktl',\n",
    "'std_bpktl',\n",
    "'min_fiat',\n",
    "'mean_fiat',\n",
    "'max_fiat',\n",
    "'std_fiat',\n",
    "'min_biat',\n",
    "'mean_biat',\n",
    "'max_biat',\n",
    "'std_biat',\n",
    "'duration',\n",
    "'min_active',\n",
    "'mean_active',\n",
    "'max_active',\n",
    "'std_active',\n",
    "'min_idle',\n",
    "'mean_idle',\n",
    "'max_idle',\n",
    "'std_idle',\n",
    "'sflow_fpackets',\n",
    "'sflow_fbytes',\n",
    "'sflow_bpackets',\n",
    "'sflow_bbytes',\n",
    "'fpsh_cnt',\n",
    "'bpsh_cnt',\n",
    "'furg_cnt',\n",
    "'burg_cnt',\n",
    "'total_fhlen',\n",
    "'total_bhlen',\n",
    "'dscp']\n",
    "\n",
    "df = pd.read_csv('Datasets/goflowtest-trainset.csv',names=columns)"
   ]
  },
  {
   "cell_type": "code",
   "execution_count": 18,
   "metadata": {},
   "outputs": [
    {
     "data": {
      "text/html": [
       "<div>\n",
       "<style scoped>\n",
       "    .dataframe tbody tr th:only-of-type {\n",
       "        vertical-align: middle;\n",
       "    }\n",
       "\n",
       "    .dataframe tbody tr th {\n",
       "        vertical-align: top;\n",
       "    }\n",
       "\n",
       "    .dataframe thead th {\n",
       "        text-align: right;\n",
       "    }\n",
       "</style>\n",
       "<table border=\"1\" class=\"dataframe\">\n",
       "  <thead>\n",
       "    <tr style=\"text-align: right;\">\n",
       "      <th></th>\n",
       "      <th>srcip</th>\n",
       "      <th>srcport</th>\n",
       "      <th>dstip</th>\n",
       "      <th>dstport</th>\n",
       "      <th>proto</th>\n",
       "      <th>total_fpackets</th>\n",
       "      <th>total_fvolume</th>\n",
       "      <th>total_bpackets</th>\n",
       "      <th>total_bvolume</th>\n",
       "      <th>min_fpktl</th>\n",
       "      <th>...</th>\n",
       "      <th>sflow_fbytes</th>\n",
       "      <th>sflow_bpackets</th>\n",
       "      <th>sflow_bbytes</th>\n",
       "      <th>fpsh_cnt</th>\n",
       "      <th>bpsh_cnt</th>\n",
       "      <th>furg_cnt</th>\n",
       "      <th>burg_cnt</th>\n",
       "      <th>total_fhlen</th>\n",
       "      <th>total_bhlen</th>\n",
       "      <th>dscp</th>\n",
       "    </tr>\n",
       "  </thead>\n",
       "  <tbody>\n",
       "    <tr>\n",
       "      <th>0</th>\n",
       "      <td>147.32.84.180</td>\n",
       "      <td>1027</td>\n",
       "      <td>74.125.232.195</td>\n",
       "      <td>80</td>\n",
       "      <td>6</td>\n",
       "      <td>7</td>\n",
       "      <td>1082</td>\n",
       "      <td>3</td>\n",
       "      <td>205</td>\n",
       "      <td>40</td>\n",
       "      <td>...</td>\n",
       "      <td>1082</td>\n",
       "      <td>3</td>\n",
       "      <td>205</td>\n",
       "      <td>2</td>\n",
       "      <td>1</td>\n",
       "      <td>0</td>\n",
       "      <td>0</td>\n",
       "      <td>296</td>\n",
       "      <td>128</td>\n",
       "      <td>0</td>\n",
       "    </tr>\n",
       "    <tr>\n",
       "      <th>1</th>\n",
       "      <td>147.32.84.180</td>\n",
       "      <td>1040</td>\n",
       "      <td>94.63.149.152</td>\n",
       "      <td>80</td>\n",
       "      <td>6</td>\n",
       "      <td>32</td>\n",
       "      <td>1476</td>\n",
       "      <td>11</td>\n",
       "      <td>26238</td>\n",
       "      <td>40</td>\n",
       "      <td>...</td>\n",
       "      <td>1476</td>\n",
       "      <td>11</td>\n",
       "      <td>26238</td>\n",
       "      <td>2</td>\n",
       "      <td>2</td>\n",
       "      <td>0</td>\n",
       "      <td>0</td>\n",
       "      <td>1296</td>\n",
       "      <td>448</td>\n",
       "      <td>0</td>\n",
       "    </tr>\n",
       "    <tr>\n",
       "      <th>2</th>\n",
       "      <td>147.32.84.180</td>\n",
       "      <td>1041</td>\n",
       "      <td>60.190.223.75</td>\n",
       "      <td>2012</td>\n",
       "      <td>6</td>\n",
       "      <td>60</td>\n",
       "      <td>2618</td>\n",
       "      <td>28</td>\n",
       "      <td>57221</td>\n",
       "      <td>40</td>\n",
       "      <td>...</td>\n",
       "      <td>2618</td>\n",
       "      <td>28</td>\n",
       "      <td>57221</td>\n",
       "      <td>2</td>\n",
       "      <td>1</td>\n",
       "      <td>0</td>\n",
       "      <td>0</td>\n",
       "      <td>2416</td>\n",
       "      <td>1128</td>\n",
       "      <td>0</td>\n",
       "    </tr>\n",
       "    <tr>\n",
       "      <th>3</th>\n",
       "      <td>147.32.84.180</td>\n",
       "      <td>1044</td>\n",
       "      <td>60.190.223.75</td>\n",
       "      <td>888</td>\n",
       "      <td>6</td>\n",
       "      <td>9</td>\n",
       "      <td>1006</td>\n",
       "      <td>3</td>\n",
       "      <td>1882</td>\n",
       "      <td>40</td>\n",
       "      <td>...</td>\n",
       "      <td>1006</td>\n",
       "      <td>3</td>\n",
       "      <td>1882</td>\n",
       "      <td>2</td>\n",
       "      <td>2</td>\n",
       "      <td>0</td>\n",
       "      <td>0</td>\n",
       "      <td>376</td>\n",
       "      <td>128</td>\n",
       "      <td>0</td>\n",
       "    </tr>\n",
       "    <tr>\n",
       "      <th>4</th>\n",
       "      <td>147.32.84.180</td>\n",
       "      <td>1046</td>\n",
       "      <td>147.32.84.171</td>\n",
       "      <td>139</td>\n",
       "      <td>6</td>\n",
       "      <td>21</td>\n",
       "      <td>2906</td>\n",
       "      <td>11</td>\n",
       "      <td>1364</td>\n",
       "      <td>40</td>\n",
       "      <td>...</td>\n",
       "      <td>2906</td>\n",
       "      <td>11</td>\n",
       "      <td>1364</td>\n",
       "      <td>16</td>\n",
       "      <td>8</td>\n",
       "      <td>0</td>\n",
       "      <td>0</td>\n",
       "      <td>856</td>\n",
       "      <td>448</td>\n",
       "      <td>0</td>\n",
       "    </tr>\n",
       "  </tbody>\n",
       "</table>\n",
       "<p>5 rows × 45 columns</p>\n",
       "</div>"
      ],
      "text/plain": [
       "           srcip  srcport           dstip  dstport  proto  total_fpackets  \\\n",
       "0  147.32.84.180     1027  74.125.232.195       80      6               7   \n",
       "1  147.32.84.180     1040   94.63.149.152       80      6              32   \n",
       "2  147.32.84.180     1041   60.190.223.75     2012      6              60   \n",
       "3  147.32.84.180     1044   60.190.223.75      888      6               9   \n",
       "4  147.32.84.180     1046   147.32.84.171      139      6              21   \n",
       "\n",
       "   total_fvolume  total_bpackets  total_bvolume  min_fpktl  ...   \\\n",
       "0           1082               3            205         40  ...    \n",
       "1           1476              11          26238         40  ...    \n",
       "2           2618              28          57221         40  ...    \n",
       "3           1006               3           1882         40  ...    \n",
       "4           2906              11           1364         40  ...    \n",
       "\n",
       "   sflow_fbytes  sflow_bpackets  sflow_bbytes  fpsh_cnt  bpsh_cnt  furg_cnt  \\\n",
       "0          1082               3           205         2         1         0   \n",
       "1          1476              11         26238         2         2         0   \n",
       "2          2618              28         57221         2         1         0   \n",
       "3          1006               3          1882         2         2         0   \n",
       "4          2906              11          1364        16         8         0   \n",
       "\n",
       "   burg_cnt  total_fhlen  total_bhlen  dscp  \n",
       "0         0          296          128     0  \n",
       "1         0         1296          448     0  \n",
       "2         0         2416         1128     0  \n",
       "3         0          376          128     0  \n",
       "4         0          856          448     0  \n",
       "\n",
       "[5 rows x 45 columns]"
      ]
     },
     "execution_count": 18,
     "metadata": {},
     "output_type": "execute_result"
    }
   ],
   "source": [
    "df.head()"
   ]
  },
  {
   "cell_type": "markdown",
   "metadata": {},
   "source": [
    "Existem dois tipos de protocolo no dataset, TCP e UDP. Como o foco da análise são os fluxos de Botnet do protocolo IRC, que por sua vez utiliza o protocolo TCP para transporte, convém manter somente os fluxos TCP."
   ]
  },
  {
   "cell_type": "code",
   "execution_count": 19,
   "metadata": {},
   "outputs": [],
   "source": [
    "df = df[df['proto']==6]"
   ]
  },
  {
   "cell_type": "markdown",
   "metadata": {},
   "source": [
    "Verificando valores nulos"
   ]
  },
  {
   "cell_type": "code",
   "execution_count": 54,
   "metadata": {},
   "outputs": [
    {
     "data": {
      "text/plain": [
       "Index(['std_active', 'min_idle', 'mean_idle', 'max_idle', 'std_idle',\n",
       "       'furg_cnt', 'burg_cnt'],\n",
       "      dtype='object')"
      ]
     },
     "execution_count": 54,
     "metadata": {},
     "output_type": "execute_result"
    }
   ],
   "source": [
    "df.columns[(df == 0).all()]"
   ]
  },
  {
   "cell_type": "markdown",
   "metadata": {},
   "source": [
    "## Rotulação de dados"
   ]
  },
  {
   "cell_type": "markdown",
   "metadata": {},
   "source": [
    "Abaixo constam duas listas, uma de IPs que pertencem a botnets e outra que contém os fluxos bidirecionais que correspondem a um ataque IRC. FLuxos dentro dessas especificações serão rotulados como 1 (Botnet), e 0 caso contrário (não-botnet)."
   ]
  },
  {
   "cell_type": "code",
   "execution_count": 20,
   "metadata": {},
   "outputs": [],
   "source": [
    "malicious_ips = ['147.32.84.180',\n",
    "                 '147.32.84.170'\n",
    "               ]\n",
    "\n",
    "irc_attacks = [('192.168.2.112','131.202.243.84'), ('192.168.5.122', '198.164.30.2'), \n",
    "('192.168.2.110','192.168.5.122'), ('192.168.4.118', '192.168.5.122'), ('192.168.2.113', '192.168.5.122'),\n",
    "('192.168.1.103','192.168.5.122'), ('192.168.4.120','192.168.5.122'),\n",
    "('192.168.2.112','192.168.2.110'), ('192.168.2.112','192.168.4.120'), ('192.168.2.112','192.168.1.103'),\n",
    "('192.168.2.112','192.168.2.113'), ('192.168.2.112','192.168.4.118'), ('192.168.2.112','192.168.2.109'),\n",
    "('192.168.2.112','192.168.2.105'), ('192.168.1.105','192.168.5.122')\n",
    "]"
   ]
  },
  {
   "cell_type": "code",
   "execution_count": 21,
   "metadata": {},
   "outputs": [],
   "source": [
    "def flow_label(df):\n",
    "    labels = []\n",
    "    \n",
    "    for index,data in df.iterrows():\n",
    "\n",
    "        src = data['srcip']\n",
    "        dst = data['dstip']\n",
    "        \n",
    "\n",
    "        if((src in malicious_ips) or (dst in malicious_ips)):\n",
    "            labels.append(1)\n",
    "        elif(((src,dst) in irc_attacks) or ((dst,src) in irc_attacks)):\n",
    "            labels.append(1)\n",
    "        else:\n",
    "            labels.append(0)\n",
    "    \n",
    "    return labels\n",
    "\n",
    "df['label'] = flow_label(df)"
   ]
  },
  {
   "cell_type": "code",
   "execution_count": 21,
   "metadata": {},
   "outputs": [],
   "source": [
    "def flow_label(df):\n",
    "    labels = []\n",
    "    \n",
    "    for index,data in df.iterrows():\n",
    "\n",
    "        src = data['srcip']\n",
    "        dst = data['dstip']\n",
    "        \n",
    "\n",
    "        if((src in malicious_ips) or (dst in malicious_ips)):\n",
    "            labels.append(1)\n",
    "        elif(((src,dst) in irc_attacks) or ((dst,src) in irc_attacks)):\n",
    "            labels.append(1)\n",
    "        else:\n",
    "            labels.append(0)\n",
    "    \n",
    "    return labels\n",
    "\n",
    "df['label'] = flow_label(df)"
   ]
  },
  {
   "cell_type": "markdown",
   "metadata": {},
   "source": [
    "## Eliminando fluxos de outras botnets"
   ]
  },
  {
   "cell_type": "markdown",
   "metadata": {},
   "source": [
    "O dataset contém fluxos de botnets que utilizam outros tipos de protocolo. Sendo assim, esses fluxos serão eliminados tendo em vista que as características deles podem impactar a classificação."
   ]
  },
  {
   "cell_type": "code",
   "execution_count": 22,
   "metadata": {},
   "outputs": [],
   "source": [
    "other_botnets = ['147.32.84.160','192.168.3.35', '192.168.3.25', '192.168.3.65', '172.29.0.116']"
   ]
  },
  {
   "cell_type": "code",
   "execution_count": 24,
   "metadata": {},
   "outputs": [],
   "source": [
    "df = df[~df['srcip'].isin(other_botnets)]"
   ]
  },
  {
   "cell_type": "code",
   "execution_count": 25,
   "metadata": {},
   "outputs": [],
   "source": [
    "df = df[~df['dstip'].isin(other_botnets)]"
   ]
  },
  {
   "cell_type": "markdown",
   "metadata": {},
   "source": [
    "## Balanceamento de dados"
   ]
  },
  {
   "cell_type": "code",
   "execution_count": 27,
   "metadata": {},
   "outputs": [
    {
     "data": {
      "text/plain": [
       "Counter({0: 86695, 1: 6379})"
      ]
     },
     "execution_count": 27,
     "metadata": {},
     "output_type": "execute_result"
    }
   ],
   "source": [
    "from collections import Counter\n",
    "\n",
    "Counter(df['label'])"
   ]
  },
  {
   "cell_type": "markdown",
   "metadata": {},
   "source": [
    "Como observado acima, existe uma quantidade muito maior de dados que que não são botnet do que os que são. Convém então balancear o conjunto de dados através do undersampling da classe 0."
   ]
  },
  {
   "cell_type": "code",
   "execution_count": 14,
   "metadata": {},
   "outputs": [],
   "source": [
    "_underscore = 6379\n",
    "# Obtendo o numero de itens a serem eliminados\n",
    "_total = len(df[df['label'] == 0]) - _underscore\n",
    "# Obtendo sub-dataset a ser eliminado\n",
    "_df_underscore_index = df[df['label'] == 0].head(_total).index\n",
    "# eliminando sub-dataset do dataset principal\n",
    "df.drop(_df_underscore_index, inplace=True)\n",
    "# resetando index dos datasets\n",
    "df.reset_index(drop=True,inplace=True)"
   ]
  },
  {
   "cell_type": "code",
   "execution_count": 15,
   "metadata": {},
   "outputs": [
    {
     "data": {
      "text/plain": [
       "Counter({0: 6379, 1: 6379})"
      ]
     },
     "execution_count": 15,
     "metadata": {},
     "output_type": "execute_result"
    }
   ],
   "source": [
    "Counter(df['label'])"
   ]
  },
  {
   "cell_type": "markdown",
   "metadata": {},
   "source": [
    "## Geração de dados"
   ]
  },
  {
   "cell_type": "markdown",
   "metadata": {},
   "source": [
    "O dataset gerado não contém todas as características a serem utilizadas no trabalho, e sendo assim é necessário criá-las."
   ]
  },
  {
   "cell_type": "code",
   "execution_count": 31,
   "metadata": {},
   "outputs": [],
   "source": [
    "def flow_total_bytes():\n",
    "    total_bytes = []\n",
    "    for index,data in df.iterrows():\n",
    "\n",
    "        bytes_forward = data['total_fvolume']\n",
    "        bytes_backward = data['total_bvolume']\n",
    "\n",
    "        bytes_sum = bytes_forward + bytes_backward\n",
    "\n",
    "        total_bytes.append(bytes_sum)\n",
    "\n",
    "    df['total_bytes'] = total_bytes\n",
    "    \n",
    "def flow_total_packets():\n",
    "    total_packets = []\n",
    "    for index,data in df.iterrows():\n",
    "\n",
    "        packets_forward = data['total_fpackets']\n",
    "        packets_backward = data['total_bpackets']\n",
    "\n",
    "        packets_sum = packets_forward + packets_backward\n",
    "\n",
    "        total_packets.append(packets_sum)\n",
    "\n",
    "    df['total_packets'] = total_packets\n",
    "    \n",
    "def flow_total_bits():\n",
    "    total_bits = []\n",
    "    for index,data in df.iterrows():\n",
    "\n",
    "        total_bytes = data['total_bytes']\n",
    "\n",
    "        bits = total_bytes * 8\n",
    "\n",
    "        total_bits.append(bits)\n",
    "\n",
    "    df['total_bits'] = total_bits\n",
    "\n",
    "def bytes_per_packet():\n",
    "    bpp = []\n",
    "    for index,data in df.iterrows():\n",
    "\n",
    "        _bytes = data['total_bytes']\n",
    "        packets = data['total_packets']\n",
    "        val = _bytes / packets\n",
    "\n",
    "        bpp.append(val)\n",
    "\n",
    "    df['bpp'] = bpp\n",
    "    \n",
    "def bits_per_sec():\n",
    "    bps = []\n",
    "    for index,data in df.iterrows():\n",
    "\n",
    "        bits = data['total_bytes'] * 8\n",
    "        secs = data['duration'] * 0.000006\n",
    "        \n",
    "        if secs != 0:\n",
    "            val = bits/secs\n",
    "        else:\n",
    "            val = 0\n",
    "\n",
    "        bps.append(val)\n",
    "\n",
    "    df['bps'] = bps   \n",
    "\n",
    "def packets_per_sec():\n",
    "    pps = []\n",
    "    for index,data in df.iterrows():\n",
    "\n",
    "        packets = data['total_packets']\n",
    "        secs = data['duration'] * 0.000006\n",
    "\n",
    "        if secs != 0:\n",
    "            val = packets/secs\n",
    "        else:\n",
    "            val = 0\n",
    "\n",
    "        pps.append(val)\n",
    "\n",
    "    df['pps'] = pps   \n",
    "    \n",
    "def avg_var_iat():\n",
    "    iat = []\n",
    "    for index,data in df.iterrows():\n",
    "\n",
    "        f_iat = data['std_fiat'] \n",
    "        b_iat = data['std_biat']\n",
    "\n",
    "        f_iat = f_iat * f_iat\n",
    "        b_iat = b_iat * b_iat\n",
    "\n",
    "        avg = (f_iat + b_iat)/2\n",
    "\n",
    "        iat.append(avg)\n",
    "\n",
    "    df['var_iat'] = iat\n",
    "    \n",
    "def avg_iat():\n",
    "    iat = []\n",
    "    for index,data in df.iterrows():\n",
    "\n",
    "        f_iat = data['mean_fiat'] \n",
    "        b_iat = data['mean_biat']\n",
    "\n",
    "        avg = (f_iat + b_iat)/2\n",
    "\n",
    "        iat.append(avg)\n",
    "\n",
    "    df['avg_iat'] = iat\n",
    "    \n",
    "def pct_packets_pushed():\n",
    "    pctpp = []\n",
    "    for index,data in df.iterrows():\n",
    "        \n",
    "        packets_pushed = data['total_fpackets']\n",
    "        total_packets = data['total_packets']\n",
    "        \n",
    "        if total_packets != 0:\n",
    "            val = packets_pushed/total_packets\n",
    "        else:\n",
    "            val = 0\n",
    "        \n",
    "        pctpp.append(val)\n",
    "    \n",
    "    df['pct_packets_pushed'] = pctpp\n",
    "    \n",
    "def iopr():\n",
    "    iopr = []\n",
    "    for index,data in df.iterrows():\n",
    "        \n",
    "        packets_pushed = data['total_fpackets']\n",
    "        packets_pulled = data['total_bpackets']\n",
    "        \n",
    "        if packets_pushed != 0:\n",
    "            val = packets_pulled/packets_pushed\n",
    "        else:\n",
    "            val = 0\n",
    "            \n",
    "        iopr.append(val)\n",
    "        \n",
    "    df['iopr'] = iopr\n",
    "    \n",
    "def avg_payload_length():\n",
    "    # (bytes_header_forward + bytes_header_back) - total_bytes = payload length\n",
    "    # payload_length / packets = average payload length\n",
    "    avg_pl = []\n",
    "    for index,data in df.iterrows():\n",
    "        \n",
    "        header_f = data['total_fhlen']\n",
    "        header_b = data['total_bhlen']\n",
    "        total_b = data['total_bytes']\n",
    "        packets = data['total_packets']\n",
    "        \n",
    "        if packets != 0:\n",
    "            payload_length = total_b - (header_b + header_f)\n",
    "            avg = payload_length / packets\n",
    "        else:\n",
    "            avg = 0\n",
    "        \n",
    "        avg_pl.append(avg)\n",
    "    \n",
    "    df['avg_payload_length'] = avg_pl"
   ]
  },
  {
   "cell_type": "code",
   "execution_count": 32,
   "metadata": {},
   "outputs": [],
   "source": [
    "flow_total_bytes()\n",
    "flow_total_packets()\n",
    "flow_total_bits()\n",
    "bytes_per_packet()\n",
    "bits_per_sec()\n",
    "packets_per_sec()\n",
    "avg_var_iat()\n",
    "avg_iat()\n",
    "packets_per_sec()\n",
    "pct_packets_pushed()\n",
    "avg_payload_length()\n",
    "iopr()"
   ]
  },
  {
   "cell_type": "code",
   "execution_count": 53,
   "metadata": {},
   "outputs": [
    {
     "data": {
      "text/plain": [
       "Index(['srcip', 'srcport', 'dstip', 'dstport', 'proto', 'total_fpackets',\n",
       "       'total_fvolume', 'total_bpackets', 'total_bvolume', 'min_fpktl',\n",
       "       'mean_fpktl', 'max_fpktl', 'std_fpktl', 'min_bpktl', 'mean_bpktl',\n",
       "       'max_bpktl', 'std_bpktl', 'min_fiat', 'mean_fiat', 'max_fiat',\n",
       "       'std_fiat', 'min_biat', 'mean_biat', 'max_biat', 'std_biat', 'duration',\n",
       "       'min_active', 'mean_active', 'max_active', 'std_active', 'min_idle',\n",
       "       'mean_idle', 'max_idle', 'std_idle', 'sflow_fpackets', 'sflow_fbytes',\n",
       "       'sflow_bpackets', 'sflow_bbytes', 'fpsh_cnt', 'bpsh_cnt', 'furg_cnt',\n",
       "       'burg_cnt', 'total_fhlen', 'total_bhlen', 'dscp', 'label',\n",
       "       'total_bytes', 'total_packets', 'total_bits', 'bpp', 'bps', 'pps',\n",
       "       'var_iat', 'avg_iat', 'pct_packets_pushed', 'avg_payload_length',\n",
       "       'iopr'],\n",
       "      dtype='object')"
      ]
     },
     "execution_count": 53,
     "metadata": {},
     "output_type": "execute_result"
    }
   ],
   "source": [
    "df.columns"
   ]
  },
  {
   "cell_type": "markdown",
   "metadata": {},
   "source": [
    "## Exportando dataset"
   ]
  },
  {
   "cell_type": "code",
   "execution_count": 55,
   "metadata": {},
   "outputs": [],
   "source": [
    "df.to_csv('Datasets/trainset.csv')"
   ]
  }
 ],
 "metadata": {
  "kernelspec": {
   "display_name": "Python 3",
   "language": "python",
   "name": "python3"
  },
  "language_info": {
   "codemirror_mode": {
    "name": "ipython",
    "version": 3
   },
   "file_extension": ".py",
   "mimetype": "text/x-python",
   "name": "python",
   "nbconvert_exporter": "python",
   "pygments_lexer": "ipython3",
   "version": "3.7.0"
  }
 },
 "nbformat": 4,
 "nbformat_minor": 2
}
